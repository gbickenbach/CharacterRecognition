{
  "nbformat": 4,
  "nbformat_minor": 0,
  "metadata": {
    "colab": {
      "name": "CharacterRecognition1.ipynb",
      "provenance": [],
      "collapsed_sections": []
    },
    "kernelspec": {
      "name": "python3",
      "display_name": "Python 3"
    }
  },
  "cells": [
    {
      "cell_type": "code",
      "metadata": {
        "id": "zGorVYTsSKEf"
      },
      "source": [
        "import matplotlib.pyplot as plt\n",
        "import cv2\n",
        "import numpy as np\n",
        "from keras.models import Sequential\n",
        "from keras.layers import Dense, Flatten, Conv2D, MaxPool2D, Dropout\n",
        "from keras.optimizers import SGD, Adam\n",
        "from keras.callbacks import ReduceLROnPlateau, EarlyStopping\n",
        "from keras.utils import to_categorical\n",
        "import pandas as pd\n",
        "import numpy as np\n",
        "from sklearn.model_selection import train_test_split\n",
        "from sklearn.utils import shuffle"
      ],
      "execution_count": null,
      "outputs": []
    },
    {
      "cell_type": "code",
      "metadata": {
        "id": "goTjmD49UBOF",
        "colab": {
          "base_uri": "https://localhost:8080/"
        },
        "outputId": "fcc84818-d9ec-43a2-c12b-f90cda6e0b3c"
      },
      "source": [
        "data = pd.read_csv(\"drive/MyDrive/archive/A_Z Handwritten Data/A_Z Handwritten Data.csv\").astype('float32')\n",
        "\n",
        "print(data.head(10))"
      ],
      "execution_count": null,
      "outputs": [
        {
          "output_type": "stream",
          "text": [
            "     0  0.1  0.2  0.3  0.4  0.5  ...  0.643  0.644  0.645  0.646  0.647  0.648\n",
            "0  0.0  0.0  0.0  0.0  0.0  0.0  ...    0.0    0.0    0.0    0.0    0.0    0.0\n",
            "1  0.0  0.0  0.0  0.0  0.0  0.0  ...    0.0    0.0    0.0    0.0    0.0    0.0\n",
            "2  0.0  0.0  0.0  0.0  0.0  0.0  ...    0.0    0.0    0.0    0.0    0.0    0.0\n",
            "3  0.0  0.0  0.0  0.0  0.0  0.0  ...    0.0    0.0    0.0    0.0    0.0    0.0\n",
            "4  0.0  0.0  0.0  0.0  0.0  0.0  ...    0.0    0.0    0.0    0.0    0.0    0.0\n",
            "5  0.0  0.0  0.0  0.0  0.0  0.0  ...    0.0    0.0    0.0    0.0    0.0    0.0\n",
            "6  0.0  0.0  0.0  0.0  0.0  0.0  ...    0.0    0.0    0.0    0.0    0.0    0.0\n",
            "7  0.0  0.0  0.0  0.0  0.0  0.0  ...    0.0    0.0    0.0    0.0    0.0    0.0\n",
            "8  0.0  0.0  0.0  0.0  0.0  0.0  ...    0.0    0.0    0.0    0.0    0.0    0.0\n",
            "9  0.0  0.0  0.0  0.0  0.0  0.0  ...    0.0    0.0    0.0    0.0    0.0    0.0\n",
            "\n",
            "[10 rows x 785 columns]\n"
          ],
          "name": "stdout"
        }
      ]
    },
    {
      "cell_type": "code",
      "metadata": {
        "colab": {
          "base_uri": "https://localhost:8080/"
        },
        "id": "t9mUm7bvif6T",
        "outputId": "94c335bc-2d6e-4918-d460-dc9a5f8a4e8f"
      },
      "source": [
        "from google.colab import drive\n",
        "drive.mount('/content/drive')"
      ],
      "execution_count": null,
      "outputs": [
        {
          "output_type": "stream",
          "text": [
            "Mounted at /content/drive\n"
          ],
          "name": "stdout"
        }
      ]
    },
    {
      "cell_type": "code",
      "metadata": {
        "id": "agbbefDpcANe"
      },
      "source": [
        "data.loc[len(data)-1]\n"
      ],
      "execution_count": null,
      "outputs": []
    },
    {
      "cell_type": "code",
      "metadata": {
        "id": "bJNvaMq-dUsd"
      },
      "source": [
        "data.head"
      ],
      "execution_count": null,
      "outputs": []
    },
    {
      "cell_type": "code",
      "metadata": {
        "id": "6Td3_AQvZPZj"
      },
      "source": [
        "X = data.drop('0',axis = 1)\n",
        "y = data['0']"
      ],
      "execution_count": null,
      "outputs": []
    },
    {
      "cell_type": "code",
      "metadata": {
        "id": "ArG14Dd5ZpaP"
      },
      "source": [
        "train_x, test_x, train_y, test_y = train_test_split(X, y, test_size = 0.2)\n",
        "print(train_x.values)\n",
        "\n",
        "train_x = np.reshape(train_x.values, (train_x.shape[0], 28,28))\n",
        "\n",
        "test_x = np.reshape(test_x.values, (test_x.shape[0], 28,28))\n",
        "\n",
        "\n",
        "print(\"Train data shape: \", train_x.shape)\n",
        "print(\"Test data shape: \", test_x.shape)\n"
      ],
      "execution_count": null,
      "outputs": []
    },
    {
      "cell_type": "code",
      "metadata": {
        "id": "Ml6ObNVkd6DI"
      },
      "source": [
        "word_dict = {0:'A',1:'B',2:'C',3:'D',4:'E',5:'F',6:'G',7:'H',8:'I',9:'J',10:'K',11:'L',12:'M',13:'N',14:'O',15:'P',16:'Q',17:'R',18:'S',19:'T',20:'U',21:'V',22:'W',23:'X', 24:'Y',25:'Z'}"
      ],
      "execution_count": null,
      "outputs": []
    },
    {
      "cell_type": "code",
      "metadata": {
        "id": "jfBAdD_VbK5M",
        "colab": {
          "base_uri": "https://localhost:8080/",
          "height": 606
        },
        "outputId": "5261bc17-951e-439b-e58c-9caa76170887"
      },
      "source": [
        "y_int = np.int0(y)\n",
        "count = np.zeros(26, dtype='int')\n",
        "for i in y_int:\n",
        "    count[i] +=1\n",
        "alphabets = []\n",
        "for i in word_dict.values():\n",
        "    alphabets.append(i)\n",
        "fig, ax = plt.subplots(1,1, figsize=(10,10))\n",
        "ax.barh(alphabets, count)\n",
        "plt.xlabel(\"Number of elements \")\n",
        "plt.ylabel(\"Alphabets\")\n",
        "plt.grid()\n",
        "plt.show()"
      ],
      "execution_count": null,
      "outputs": [
        {
          "output_type": "display_data",
          "data": {
            "image/png": "[encoded data removed]",
            "text/plain": [
              "<Figure size 720x720 with 1 Axes>"
            ]
          },
          "metadata": {
            "tags": [],
            "needs_background": "light"
          }
        }
      ]
    },
    {
      "cell_type": "code",
      "metadata": {
        "id": "r7BVc0YCdI2U",
        "colab": {
          "base_uri": "https://localhost:8080/",
          "height": 593
        },
        "outputId": "fd6b247b-5092-4864-96be-096533efe129"
      },
      "source": [
        "shuff = shuffle(train_x[:100])\n",
        "fig, ax = plt.subplots(3,3, figsize = (10,10))\n",
        "axes = ax.flatten()\n",
        "for i in range(9):\n",
        "    _, shu = cv2.threshold(shuff[i], 30, 200, cv2.THRESH_BINARY)\n",
        "    axes[i].imshow(np.reshape(shuff[i], (28,28)), cmap=\"Greys\")\n",
        "plt.show()"
      ],
      "execution_count": null,
      "outputs": [
        {
          "output_type": "display_data",
          "data": {
            "image/png": "[encoded data removed]",
            "text/plain": [
              "<Figure size 720x720 with 9 Axes>"
            ]
          },
          "metadata": {
            "tags": [],
            "needs_background": "light"
          }
        }
      ]
    },
    {
      "cell_type": "code",
      "metadata": {
        "colab": {
          "base_uri": "https://localhost:8080/"
        },
        "id": "F8C_wZ55erZM",
        "outputId": "6f1d2bc8-ee03-4d58-c560-ddef1d086020"
      },
      "source": [
        "train_X = train_x.reshape(train_x.shape[0],train_x.shape[1],train_x.shape[2],1)\n",
        "print(\"New shape of train data: \", train_X.shape)\n",
        "test_X = test_x.reshape(test_x.shape[0], test_x.shape[1], test_x.shape[2],1)\n",
        "print(\"New shape of test data: \", test_X.shape)\n"
      ],
      "execution_count": null,
      "outputs": [
        {
          "output_type": "stream",
          "text": [
            "New shape of train data:  (297960, 28, 28, 1)\n",
            "New shape of test data:  (74490, 28, 28, 1)\n"
          ],
          "name": "stdout"
        }
      ]
    },
    {
      "cell_type": "code",
      "metadata": {
        "colab": {
          "base_uri": "https://localhost:8080/"
        },
        "id": "XlcmC-xQexdQ",
        "outputId": "f9deeb26-3385-4242-d01b-9dd90470c64c"
      },
      "source": [
        "train_yOHE = to_categorical(train_y, num_classes = 26, dtype='int')\n",
        "print(\"New shape of train labels: \", train_yOHE.shape)\n",
        "test_yOHE = to_categorical(test_y, num_classes = 26, dtype='int')\n",
        "print(\"New shape of test labels: \", test_yOHE.shape)"
      ],
      "execution_count": null,
      "outputs": [
        {
          "output_type": "stream",
          "text": [
            "New shape of train labels:  (297960, 26)\n",
            "New shape of test labels:  (74490, 26)\n"
          ],
          "name": "stdout"
        }
      ]
    },
    {
      "cell_type": "code",
      "metadata": {
        "id": "kh10Asghfjb_"
      },
      "source": [
        "model = Sequential()\n",
        "model.add(Conv2D(filters=32, kernel_size=(3, 3), activation='relu', input_shape=(28,28,1)))\n",
        "model.add(MaxPool2D(pool_size=(2, 2), strides=2))\n",
        "model.add(Conv2D(filters=64, kernel_size=(3, 3), activation='relu', padding = 'same'))\n",
        "model.add(MaxPool2D(pool_size=(2, 2), strides=2))\n",
        "model.add(Conv2D(filters=128, kernel_size=(3, 3), activation='relu', padding = 'valid'))\n",
        "model.add(MaxPool2D(pool_size=(2, 2), strides=2))\n",
        "model.add(Flatten())\n",
        "model.add(Dense(64,activation =\"relu\"))\n",
        "model.add(Dense(128,activation =\"relu\"))\n",
        "model.add(Dense(26,activation =\"softmax\"))"
      ],
      "execution_count": null,
      "outputs": []
    },
    {
      "cell_type": "code",
      "metadata": {
        "colab": {
          "base_uri": "https://localhost:8080/"
        },
        "id": "CnTQhY9pgijK",
        "outputId": "4ac026c7-1b92-4550-f0a7-96ac2161df1d"
      },
      "source": [
        "model.compile(optimizer = Adam(learning_rate=0.001), loss='categorical_crossentropy', metrics=['accuracy'])\n",
        "history = model.fit(train_X, train_yOHE, epochs=3,  validation_data = (test_X,test_yOHE))"
      ],
      "execution_count": null,
      "outputs": [
        {
          "output_type": "stream",
          "text": [
            "Epoch 1/3\n",
            "9312/9312 [==============================] - 395s 42ms/step - loss: 0.3804 - accuracy: 0.9121 - val_loss: 0.0857 - val_accuracy: 0.9753\n",
            "Epoch 2/3\n",
            "9312/9312 [==============================] - 402s 43ms/step - loss: 0.0746 - accuracy: 0.9796 - val_loss: 0.0749 - val_accuracy: 0.9785\n",
            "Epoch 3/3\n",
            "9312/9312 [==============================] - 408s 44ms/step - loss: 0.0614 - accuracy: 0.9833 - val_loss: 0.0637 - val_accuracy: 0.9824\n"
          ],
          "name": "stdout"
        }
      ]
    },
    {
      "cell_type": "code",
      "metadata": {
        "id": "0qUB6UqAh6WU"
      },
      "source": [
        "model.summary()\n",
        "model.save(r'model_hand.h5')"
      ],
      "execution_count": null,
      "outputs": []
    },
    {
      "cell_type": "code",
      "metadata": {
        "colab": {
          "base_uri": "https://localhost:8080/"
        },
        "id": "hkdHo0KRh5dk",
        "outputId": "de1bcd66-0e46-4723-fca2-8bf19cb1afc7"
      },
      "source": [
        "print(\"The validation accuracy is :\", history.history['val_accuracy'])\n",
        "print(\"The training accuracy is :\", history.history['accuracy'])\n",
        "print(\"The validation loss is :\", history.history['val_loss'])\n",
        "print(\"The training loss is :\", history.history['loss'])"
      ],
      "execution_count": null,
      "outputs": [
        {
          "output_type": "stream",
          "text": [
            "The validation accuracy is : [0.9752987027168274, 0.9785474538803101, 0.9823734760284424]\n",
            "The training accuracy is : [0.9571855068206787, 0.9801282286643982, 0.9836958050727844]\n",
            "The validation loss is : [0.08573067933320999, 0.07491607964038849, 0.06367624551057816]\n",
            "The training loss is : [0.15881487727165222, 0.07203242182731628, 0.061444588005542755]\n"
          ],
          "name": "stdout"
        }
      ]
    },
    {
      "cell_type": "code",
      "metadata": {
        "id": "4ZVfpakii6L0",
        "colab": {
          "base_uri": "https://localhost:8080/",
          "height": 541
        },
        "outputId": "2daed6f5-5feb-4036-ae91-f6308f4ebcab"
      },
      "source": [
        "fig, axes = plt.subplots(3,3, figsize=(8,9))\n",
        "axes = axes.flatten()\n",
        "for i,ax in enumerate(axes):\n",
        "    img = np.reshape(test_X[i], (28,28))\n",
        "    ax.imshow(img, cmap=\"Greys\")\n",
        "    \n",
        "    pred = word_dict[np.argmax(test_yOHE[i])]\n",
        "    ax.set_title(\"Prediction: \"+pred)\n",
        "\n",
        "    ax.grid()\n"
      ],
      "execution_count": null,
      "outputs": [
        {
          "output_type": "display_data",
          "data": {
            "image/png": "[encoded data removed]",
            "text/plain": [
              "<Figure size 576x648 with 9 Axes>"
            ]
          },
          "metadata": {
            "tags": [],
            "needs_background": "light"
          }
        }
      ]
    },
    {
      "cell_type": "code",
      "metadata": {
        "id": "1mjne0m-jq4r"
      },
      "source": [
        "from PIL import Image, ImageOps\n",
        "imagen = Image.open(\"drive/My Drive/ML Project/Drawings.jpg\",\"r\").resize((28,28))\n",
        "imagen = ImageOps.grayscale(imagen)\n",
        "pixels = np.asarray(imagen)\n",
        "pixels = np.array([pixels])\n",
        "unos = np.ones(784).reshape((28,28))\n",
        "pixels = np.subtract(unos, pixels)\n",
        "pixels = np.reshape(pixels,(28,28,1))\n",
        "print(pixels.shape)\n",
        "\n",
        "\n",
        "\n",
        "predictions = model.predict([pixels[0]])\n",
        "\n"
      ],
      "execution_count": null,
      "outputs": []
    },
    {
      "cell_type": "code",
      "metadata": {
        "id": "RTcu4v2XELPZ"
      },
      "source": [
        "for i in pixels:\n",
        "  for j in i:\n",
        "    print(j, end=\"\")\n",
        "  print()"
      ],
      "execution_count": null,
      "outputs": []
    },
    {
      "cell_type": "code",
      "metadata": {
        "colab": {
          "base_uri": "https://localhost:8080/"
        },
        "id": "SgYFJA3PEzn6",
        "outputId": "08f5cf07-4074-4502-c391-dbe6d91cafc7"
      },
      "source": [
        "for i in test_X[0]:\n",
        "  for j in i:\n",
        "    print(j, end=\"\")\n",
        "  print()"
      ],
      "execution_count": null,
      "outputs": [
        {
          "output_type": "stream",
          "text": [
            "[0.][0.][0.][0.][0.][0.][0.][0.][0.][0.][0.][0.][0.][0.][0.][0.][0.][0.][0.][0.][0.][0.][0.][0.][0.][0.][0.][0.]\n",
            "[0.][0.][0.][0.][0.][0.][0.][0.][0.][0.][0.][0.][0.][0.][0.][0.][0.][0.][0.][0.][0.][0.][0.][0.][0.][0.][0.][0.]\n",
            "[0.][0.][0.][0.][0.][0.][0.][0.][0.][0.][0.][0.][0.][0.][0.][0.][0.][0.][0.][0.][0.][0.][0.][0.][0.][0.][0.][0.]\n",
            "[0.][0.][0.][0.][0.][0.][0.][0.][0.][0.][0.][0.][0.][0.][0.][0.][0.][0.][0.][0.][0.][0.][0.][0.][0.][0.][0.][0.]\n",
            "[0.][0.][0.][0.][0.][0.][0.][0.][0.][128.][255.][31.][0.][0.][0.][0.][0.][0.][0.][0.][0.][0.][0.][0.][0.][0.][0.][0.]\n",
            "[0.][0.][0.][0.][0.][0.][0.][0.][24.][226.][255.][92.][0.][0.][0.][0.][0.][0.][0.][0.][176.][166.][0.][0.][0.][0.][0.][0.]\n",
            "[0.][0.][0.][0.][0.][0.][0.][0.][112.][255.][255.][112.][0.][0.][0.][0.][0.][0.][0.][0.][235.][240.][0.][0.][0.][0.][0.][0.]\n",
            "[0.][0.][0.][0.][0.][0.][0.][0.][112.][255.][255.][112.][0.][0.][0.][0.][0.][0.][0.][54.][252.][173.][0.][0.][0.][0.][0.][0.]\n",
            "[0.][0.][0.][0.][0.][0.][0.][0.][163.][255.][239.][77.][0.][0.][0.][0.][0.][0.][0.][138.][255.][173.][0.][0.][0.][0.][0.][0.]\n",
            "[0.][0.][0.][0.][0.][0.][0.][45.][236.][255.][122.][0.][0.][0.][0.][0.][0.][0.][0.][224.][255.][61.][0.][0.][0.][0.][0.][0.]\n",
            "[0.][0.][0.][0.][0.][0.][0.][102.][255.][255.][122.][0.][0.][0.][0.][0.][0.][0.][22.][238.][246.][9.][0.][0.][0.][0.][0.][0.]\n",
            "[0.][0.][0.][0.][0.][0.][0.][168.][255.][219.][36.][0.][0.][0.][0.][0.][0.][0.][158.][255.][168.][0.][0.][0.][0.][0.][0.][0.]\n",
            "[0.][0.][0.][0.][0.][0.][3.][201.][228.][17.][0.][0.][0.][0.][0.][0.][0.][76.][250.][255.][56.][0.][0.][0.][0.][0.][0.][0.]\n",
            "[0.][0.][0.][0.][0.][0.][36.][255.][173.][0.][0.][0.][0.][0.][0.][0.][10.][220.][255.][255.][20.][0.][0.][0.][0.][0.][0.][0.]\n",
            "[0.][0.][0.][0.][0.][0.][92.][255.][112.][0.][0.][0.][0.][0.][0.][1.][172.][255.][255.][232.][13.][0.][0.][0.][0.][0.][0.][0.]\n",
            "[0.][0.][0.][0.][0.][0.][153.][255.][61.][0.][0.][0.][0.][0.][1.][126.][255.][158.][255.][194.][0.][0.][0.][0.][0.][0.][0.][0.]\n",
            "[0.][0.][0.][0.][0.][0.][189.][242.][23.][0.][0.][0.][0.][0.][133.][255.][123.][91.][255.][178.][0.][0.][0.][0.][0.][0.][0.][0.]\n",
            "[0.][0.][0.][0.][0.][0.][255.][223.][27.][0.][0.][0.][0.][138.][255.][171.][8.][194.][255.][66.][0.][0.][0.][0.][0.][0.][0.][0.]\n",
            "[0.][0.][0.][0.][0.][0.][255.][153.][0.][0.][0.][0.][118.][254.][198.][27.][0.][204.][255.][31.][0.][0.][0.][0.][0.][0.][0.][0.]\n",
            "[0.][0.][0.][0.][0.][0.][255.][158.][0.][0.][8.][131.][249.][194.][26.][0.][2.][207.][255.][31.][0.][0.][0.][0.][0.][0.][0.][0.]\n",
            "[0.][0.][0.][0.][0.][0.][194.][237.][8.][28.][212.][255.][188.][26.][0.][0.][31.][255.][239.][21.][0.][0.][0.][0.][0.][0.][0.][0.]\n",
            "[0.][0.][0.][0.][0.][0.][133.][255.][133.][214.][255.][184.][26.][0.][0.][0.][31.][255.][214.][6.][0.][0.][0.][0.][0.][0.][0.][0.]\n",
            "[0.][0.][0.][0.][0.][0.][71.][255.][255.][255.][180.][24.][0.][0.][0.][0.][148.][255.][158.][0.][0.][0.][0.][0.][0.][0.][0.][0.]\n",
            "[0.][0.][0.][0.][0.][0.][1.][105.][175.][137.][20.][0.][0.][0.][0.][0.][117.][242.][59.][0.][0.][0.][0.][0.][0.][0.][0.][0.]\n",
            "[0.][0.][0.][0.][0.][0.][0.][0.][0.][0.][0.][0.][0.][0.][0.][0.][0.][0.][0.][0.][0.][0.][0.][0.][0.][0.][0.][0.]\n",
            "[0.][0.][0.][0.][0.][0.][0.][0.][0.][0.][0.][0.][0.][0.][0.][0.][0.][0.][0.][0.][0.][0.][0.][0.][0.][0.][0.][0.]\n",
            "[0.][0.][0.][0.][0.][0.][0.][0.][0.][0.][0.][0.][0.][0.][0.][0.][0.][0.][0.][0.][0.][0.][0.][0.][0.][0.][0.][0.]\n",
            "[0.][0.][0.][0.][0.][0.][0.][0.][0.][0.][0.][0.][0.][0.][0.][0.][0.][0.][0.][0.][0.][0.][0.][0.][0.][0.][0.][0.]\n"
          ],
          "name": "stdout"
        }
      ]
    },
    {
      "cell_type": "code",
      "metadata": {
        "colab": {
          "base_uri": "https://localhost:8080/"
        },
        "id": "LFA_hGsgE-PU",
        "outputId": "43168dda-241a-449d-cfdb-d45d8d3f0391"
      },
      "source": [
        "print(pixels.shape, test_X[0].shape)"
      ],
      "execution_count": null,
      "outputs": [
        {
          "output_type": "stream",
          "text": [
            "(1, 28, 28, 1) (28, 28, 1)\n"
          ],
          "name": "stdout"
        }
      ]
    },
    {
      "cell_type": "code",
      "metadata": {
        "id": "CBdLQbbv4i6K"
      },
      "source": [
        "fig, ax = plt.subplots(figsize=(8,9))\n",
        "img = pixels.reshape(28, 28)\n",
        "ax.imshow(img, cmap=\"Greys\")\n",
        "pred = word_dict[np.argmax(predictions)]\n",
        "ax.set_title(\"Prediction: \"+pred+\", {:.2f}%\".format (max(predictions[0])*100))\n",
        "    \n",
        "\n",
        "\n",
        "ax.grid()"
      ],
      "execution_count": null,
      "outputs": []
    },
    {
      "cell_type": "code",
      "metadata": {
        "id": "Pb1yWSAGkgz9",
        "colab": {
          "base_uri": "https://localhost:8080/",
          "height": 165
        },
        "outputId": "924ad5cc-67da-4265-b950-3d1089810533"
      },
      "source": [
        "predictions\n"
      ],
      "execution_count": 1,
      "outputs": [
        {
          "output_type": "error",
          "ename": "NameError",
          "evalue": "ignored",
          "traceback": [
            "\u001b[0;31m---------------------------------------------------------------------------\u001b[0m",
            "\u001b[0;31mNameError\u001b[0m                                 Traceback (most recent call last)",
            "\u001b[0;32m<ipython-input-1-fd2951b82103>\u001b[0m in \u001b[0;36m<module>\u001b[0;34m()\u001b[0m\n\u001b[0;32m----> 1\u001b[0;31m \u001b[0mpredictions\u001b[0m\u001b[0;34m\u001b[0m\u001b[0;34m\u001b[0m\u001b[0m\n\u001b[0m",
            "\u001b[0;31mNameError\u001b[0m: name 'predictions' is not defined"
          ]
        }
      ]
    }
  ]
}